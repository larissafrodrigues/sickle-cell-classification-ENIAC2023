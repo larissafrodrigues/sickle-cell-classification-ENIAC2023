{
  "nbformat": 4,
  "nbformat_minor": 0,
  "metadata": {
    "colab": {
      "name": "TCC-2-REAL-OFICIAL.ipynb",
      "provenance": [],
      "collapsed_sections": [],
      "authorship_tag": "ABX9TyNHQS3AQonDM4L3vl41qW+/",
      "include_colab_link": true
    },
    "kernelspec": {
      "name": "python3",
      "display_name": "Python 3"
    },
    "accelerator": "GPU"
  },
  "cells": [
    {
      "cell_type": "markdown",
      "metadata": {
        "id": "view-in-github",
        "colab_type": "text"
      },
      "source": [
        "<a href=\"https://colab.research.google.com/github/victoralcantara75/sickle-cell-classification/blob/main/TCC_2_REAL_OFICIAL.ipynb\" target=\"_parent\"><img src=\"https://colab.research.google.com/assets/colab-badge.svg\" alt=\"Open In Colab\"/></a>"
      ]
    },
    {
      "cell_type": "code",
      "metadata": {
        "id": "WeBHdOx21G22"
      },
      "source": [
        "#math\n",
        "import numpy as np\n",
        "import sklearn\n",
        "import skimage\n",
        "import sklearn.model_selection\n",
        "\n",
        "#ts and keras\n",
        "import tensorflow as tf \n",
        "from tensorflow import keras\n",
        "from keras.models import Model\n",
        "from tensorflow.keras.preprocessing import image\n",
        "from tensorflow.keras import applications\n",
        "from tensorflow.keras.applications.mobilenet import preprocess_input\n",
        "from keras.preprocessing.image import ImageDataGenerator\n",
        "\n",
        "#dimensionality\n",
        "from sklearn.decomposition import PCA\n",
        "\n",
        "#classificators\n",
        "from sklearn.svm import SVC\n",
        "from sklearn import naive_bayes\n",
        "from sklearn.ensemble import RandomForestClassifier\n",
        "\n",
        "#visualization\n",
        "import matplotlib.pyplot as plt\n",
        "from sklearn.metrics import classification_report\n",
        "from sklearn.metrics import accuracy_score\n",
        "\n",
        "#utils\n",
        "import os\n",
        "import imageio\n",
        "from datetime import datetime\n",
        "import time"
      ],
      "execution_count": null,
      "outputs": []
    },
    {
      "cell_type": "code",
      "metadata": {
        "id": "POrVE1u93Zns",
        "colab": {
          "base_uri": "https://localhost:8080/"
        },
        "outputId": "8595b453-9f6e-4200-f6a1-a65333d278ef"
      },
      "source": [
        "#dataset\n",
        "!git clone https://github.com/victoralcantara75/train-test-erythrocytes.git"
      ],
      "execution_count": null,
      "outputs": [
        {
          "output_type": "stream",
          "text": [
            "fatal: destination path 'train-test-erythrocytes' already exists and is not an empty directory.\n"
          ],
          "name": "stdout"
        }
      ]
    },
    {
      "cell_type": "code",
      "metadata": {
        "colab": {
          "base_uri": "https://localhost:8080/"
        },
        "id": "tWhNRQnZF72Y",
        "outputId": "975d82d6-ae9d-4bcc-a1b5-f5ab6d23d222"
      },
      "source": [
        "#dataset segmented\n",
        "!git clone https://github.com/victoralcantara75/erythocytes-seg.git"
      ],
      "execution_count": null,
      "outputs": [
        {
          "output_type": "stream",
          "text": [
            "fatal: destination path 'erythocytes-seg' already exists and is not an empty directory.\n"
          ],
          "name": "stdout"
        }
      ]
    },
    {
      "cell_type": "code",
      "metadata": {
        "id": "nCt_jyqMaaCR"
      },
      "source": [
        "classes = [\"circular\", \"falciforme\", \"outras\"]\n",
        "# classificators = [\"svm\", \"bayes\", \"forest\"]\n",
        "classificators = [\"svm\"]\n",
        "batch = 16\n",
        "epochs = 30\n",
        "opt = 'adam'\n",
        "lr = 0.001"
      ],
      "execution_count": null,
      "outputs": []
    },
    {
      "cell_type": "code",
      "metadata": {
        "id": "36RMZfSnUgR_"
      },
      "source": [
        "def loadDir(round):\n",
        "  train_dir = './train-test-erythrocytes/dataset/5-fold/round_'+str(round)+'/train'\n",
        "  test_dir = './train-test-erythrocytes/dataset/5-fold/round_'+str(round)+'/test'\n",
        "  return train_dir, test_dir"
      ],
      "execution_count": null,
      "outputs": []
    },
    {
      "cell_type": "code",
      "metadata": {
        "id": "h0ZzMcq_vJGU"
      },
      "source": [
        "def loadDirSeg(round):\n",
        "  train_dir = './erythocytes-seg/5-fold/round_'+str(round)+'/train'\n",
        "  test_dir = './erythocytes-seg/5-fold/round_'+str(round)+'/test'\n",
        "  return train_dir, test_dir"
      ],
      "execution_count": null,
      "outputs": []
    },
    {
      "cell_type": "code",
      "metadata": {
        "id": "NtCpCaf_LVl_"
      },
      "source": [
        "def createSaveFile():\n",
        "  dir = net+\"/\"\n",
        "  if not(os.path.isdir(dir)):\n",
        "    os.mkdir(dir)\n",
        "\n",
        "  today = datetime.today()\n",
        "  path = dir + str(today) + \".txt\" \n",
        "\n",
        "  saveFile = open(path, 'a')\n",
        "  return saveFile"
      ],
      "execution_count": null,
      "outputs": []
    },
    {
      "cell_type": "code",
      "metadata": {
        "id": "eJQmLKssYaUW"
      },
      "source": [
        "def createModel(net):\n",
        "\n",
        "  if net == \"mobile\":\n",
        "    base_model = applications.MobileNet(weights='imagenet', include_top=True)\n",
        "    vector = base_model.get_layer(\"reshape_2\").output\n",
        "  elif net == \"resnet\":\n",
        "    base_model = applications.ResNet50(weights='imagenet', include_top=True)\n",
        "    vector = base_model.get_layer(\"avg_pool\").output\n",
        "  elif net == \"dense\":\n",
        "    base_model = applications.DenseNet169(weights='imagenet', include_top=True)\n",
        "    vector = base_model.get_layer(\"avg_pool\").output\n",
        "\n",
        "  model = tf.keras.Model(base_model.input, vector)\n",
        "  return model"
      ],
      "execution_count": null,
      "outputs": []
    },
    {
      "cell_type": "code",
      "metadata": {
        "id": "Zqo-LLmRyERH"
      },
      "source": [
        "def toArray(X_list_train, Y_list_train, X_list_test, Y_list_test):\n",
        "  train_imgs = np.asarray(X_list_train, dtype=np.float32)\n",
        "  train_labels = np.asarray(Y_list_train, dtype=np.float32)\n",
        "\n",
        "  test_imgs = np.asarray(X_list_test, dtype=np.float32)\n",
        "  test_labels = np.asarray(Y_list_test, dtype=np.float32)\n",
        "\n",
        "  return train_imgs, train_labels, test_imgs, test_labels\n"
      ],
      "execution_count": null,
      "outputs": []
    },
    {
      "cell_type": "code",
      "metadata": {
        "id": "cne2pnAZpSl_"
      },
      "source": [
        "def extract_features_test(path, model):\n",
        "  print('extracting features')\n",
        "  x_list = []\n",
        "  y_list = []\n",
        "\n",
        "  for label in range(3):    \n",
        "    folder_path = os.path.join(path, classes[label])\n",
        "    for file in os.listdir(folder_path):    \n",
        "        file_path = os.path.join(folder_path, file)\n",
        "        \n",
        "        if dataset == \"seg\" and not(file.endswith(\".tif\")):\n",
        "            continue\n",
        "        \n",
        "        # load image\n",
        "        img = image.load_img(file_path, target_size=(224,224))\n",
        "        # convert image to numpy array\n",
        "        img_arr = image.img_to_array(img)\n",
        "        # add 1 more dimension\n",
        "        img_arr_b = np.expand_dims(img_arr, axis=0)\n",
        "        # preprocess image\n",
        "        input_img = preprocess_input(img_arr_b)\n",
        "        # extract feature\n",
        "        features = model.predict(input_img)\n",
        "        x_list.append(features.ravel())\n",
        "        y_list.append(label)\n",
        "\n",
        "  return x_list, y_list"
      ],
      "execution_count": null,
      "outputs": []
    },
    {
      "cell_type": "code",
      "metadata": {
        "id": "fYEYax2fKtYK"
      },
      "source": [
        "def extract_features_train(path, model):\n",
        "  print('extracting features')\n",
        "  x_list = []\n",
        "  y_list = []\n",
        "\n",
        "  for label in range(3):    \n",
        "    folder_path = os.path.join(path, classes[label])\n",
        "    for file in os.listdir(folder_path):    \n",
        "        file_path = os.path.join(folder_path, file)\n",
        "        \n",
        "        if dataset == \"seg\" and not(file.endswith(\".tif\")):\n",
        "            continue\n",
        "        \n",
        "        # load image\n",
        "        img = image.load_img(file_path, target_size=(224,224))\n",
        "        # convert image to numpy array\n",
        "        img_arr = image.img_to_array(img)\n",
        "        # add 1 more dimension\n",
        "        img_arr_b = np.expand_dims(img_arr, axis=0)\n",
        "        # preprocess image\n",
        "        input_img = preprocess_input(img_arr_b)\n",
        "        #data augmentation\n",
        "        da = []\n",
        "        img_vertical_flip = np.flipud(input_img)\n",
        "        img_horizontal_flip = np.fliplr(input_img)\n",
        "        da.append(input_img)\n",
        "        da.append(img_vertical_flip)\n",
        "        da.append(img_horizontal_flip)\n",
        "        # extract feature\n",
        "        for data in da:\n",
        "          features = model.predict(data)\n",
        "          x_list.append(features.ravel())\n",
        "          y_list.append(label)\n",
        "\n",
        "        # VISUALIZAR EXEMPLOS DOS MAPAS DE CARACTERISTICAS\n",
        "        # index = 5\n",
        "        # for i in range(0, 12):\n",
        "        #   viewModel = Model(inputs=model.inputs, outputs=model.layers[i].output)\n",
        "        #   viewFeatures = viewModel.predict(input_img)\n",
        "        #   plt.imshow(viewFeatures[0, :, :, 1], cmap='gray')\n",
        "        #   plt.show()\n",
        "        #   index += 10\n",
        " \n",
        "          \n",
        "\n",
        "  return x_list, y_list"
      ],
      "execution_count": null,
      "outputs": []
    },
    {
      "cell_type": "code",
      "metadata": {
        "id": "z19EBgh3yozp"
      },
      "source": [
        "def reduct_features(imgs):\n",
        "  print('reducting features')\n",
        "  pca = PCA(n_components=3)\n",
        "  pca.fit(imgs)\n",
        "  reduc_features = pca.transform(imgs)\n",
        "  return reduc_features\n"
      ],
      "execution_count": null,
      "outputs": []
    },
    {
      "cell_type": "code",
      "metadata": {
        "id": "Dc6_J0QY61XU"
      },
      "source": [
        "def classificate(name, clf, accs, train_features, train_labels, test_features, test_labels, saveFile):\n",
        "  clf.fit(train_features, train_labels)\n",
        "  preds = clf.predict(test_features)\n",
        "\n",
        "  report = classification_report(test_labels, preds, target_names=classes, output_dict=True)\n",
        "  accs.append(report['accuracy'])\n",
        "  print(\"Accuracy: \", report['accuracy'])\n",
        "  saveFile.write(name + '\\n')\n",
        "  saveFile.write(classification_report(test_labels, preds, target_names=classes, digits=4))\n",
        "  return accs"
      ],
      "execution_count": null,
      "outputs": []
    },
    {
      "cell_type": "code",
      "metadata": {
        "id": "6ZmZH53BOe45"
      },
      "source": [
        "def svm_grid_search(C, kernel, train_X, train_Y):\n",
        "    accuracy_score_list = []\n",
        "    \n",
        "    for c in C:\n",
        "        # Model training\n",
        "        svmClassifier = SVC(C = c, kernel = kernel)\n",
        "        svmClassifier.fit(train_X, train_Y.ravel())\n",
        "        # Prediction on test set\n",
        "        pred_y = svmClassifier.predict(train_X)\n",
        "        # Accuracy\n",
        "        accuracy = accuracy_score(train_Y, pred_y)\n",
        "        accuracy_score_list.append(accuracy)\n",
        "        print('Regularization parameters: ', c, 'Accuracy', accuracy)\n",
        "    \n",
        "    max_accurarcy_id = accuracy_score_list.index(max(accuracy_score_list))\n",
        "    return C[max_accurarcy_id] "
      ],
      "execution_count": null,
      "outputs": []
    },
    {
      "cell_type": "code",
      "metadata": {
        "id": "caqnWEnCXw0B",
        "colab": {
          "base_uri": "https://localhost:8080/"
        },
        "outputId": "b4b6f807-fe39-4304-8bfb-6870ea6e024f"
      },
      "source": [
        "net = input(\"CNN (mobile, dense, resnet):\")\n",
        "dataset = input(\"Data (seg, original): \")\n",
        "\n",
        "accsSVM = []\n",
        "accsBayes = []\n",
        "accsForest = []\n",
        "model = createModel(net)\n",
        "\n",
        "saveFile = createSaveFile()\n",
        "\n",
        "start = time.time()\n",
        "for i in range (1, 6):\n",
        "  \n",
        "  print(\"ROUND \", i)\n",
        "\n",
        "  if dataset == \"original\":\n",
        "    train_dir, test_dir = loadDir(i)\n",
        "  elif dataset == \"seg\":\n",
        "    train_dir, test_dir = loadDirSeg(i)\n",
        "\n",
        "  X_list_train, Y_list_train = extract_features_train(train_dir, model)\n",
        "  X_list_test, Y_list_test = extract_features_test(test_dir, model)\n",
        "\n",
        "  train_imgs, train_labels, test_imgs, test_labels = toArray(X_list_train, Y_list_train, X_list_test, Y_list_test)\n",
        "\n",
        "  print(\"train/test images shape\")\n",
        "  print(train_imgs.shape)\n",
        "  print(test_imgs.shape)\n",
        "\n",
        "  # reduc_features_train = reduct_features(train_imgs)\n",
        "  # reduc_features_test = reduct_features(test_imgs)\n",
        "  # C, kernel = [0.1 * i for i in range(1, 30)], 'linear'\n",
        "  # opt_c = svm_grid_search(C, kernel, reduc_features_train, train_labels)\n",
        "  # clf = SVC(C= opt_c, kernel= 'linear')\n",
        "\n",
        "  for clfs in classificators:\n",
        "\n",
        "    if clfs == \"svm\":\n",
        "      clf = SVC(C = 2.9, kernel= 'linear')\n",
        "      classificate(clfs, clf, accsSVM, train_imgs, train_labels, test_imgs, test_labels, saveFile)\n",
        "    # if clfs == \"bayes\":\n",
        "    #   clf = naive_bayes.GaussianNB()\n",
        "    #   classificate(clfs, clf, accsBayes, train_imgs, train_labels, test_imgs, test_labels, saveFile)\n",
        "    # if clfs == \"forest\":\n",
        "    #   clf = RandomForestClassifier()\n",
        "    #   classificate(clfs, clf, accsForest, train_imgs, train_labels, test_imgs, test_labels, saveFile)\n",
        "end = time.time()\n",
        "\n",
        "print(\"Tempo - \", end - start)\n",
        "print(\"Result SVM: \", np.mean(accsSVM))\n",
        "# print(\"Result Bayes: \", np.mean(accsBayes))\n",
        "# print(\"Result Random Forest: \", np.mean(accsForest))\n",
        "\n",
        "saveFile.write(\"Result SVM: \"+ str(np.mean(accsSVM)))\n",
        "# saveFile.write(\"\\n Result Bayes: \"+ str(np.mean(accsBayes)))\n",
        "# saveFile.write(\"\\n Result Forest: \"+ str(np.mean(accsBayes)))\n",
        "\n",
        "saveFile.close()"
      ],
      "execution_count": null,
      "outputs": [
        {
          "output_type": "stream",
          "text": [
            "CNN (mobile, dense, resnet):mobile\n",
            "Data (seg, original): seg\n",
            "ROUND  1\n",
            "extracting features\n",
            "extracting features\n",
            "train/test images shape\n",
            "(1506, 1000)\n",
            "(124, 1000)\n",
            "Accuracy:  0.9596774193548387\n",
            "ROUND  2\n",
            "extracting features\n",
            "extracting features\n",
            "train/test images shape\n",
            "(1500, 1000)\n",
            "(126, 1000)\n",
            "Accuracy:  0.9682539682539683\n",
            "ROUND  3\n",
            "extracting features\n",
            "extracting features\n",
            "train/test images shape\n",
            "(1500, 1000)\n",
            "(126, 1000)\n",
            "Accuracy:  0.9841269841269841\n",
            "ROUND  4\n",
            "extracting features\n",
            "extracting features\n",
            "train/test images shape\n",
            "(1500, 1000)\n",
            "(126, 1000)\n",
            "Accuracy:  0.9682539682539683\n",
            "ROUND  5\n",
            "extracting features\n",
            "extracting features\n",
            "train/test images shape\n",
            "(1506, 1000)\n",
            "(124, 1000)\n",
            "Accuracy:  0.9596774193548387\n",
            "Tempo -  287.9055218696594\n",
            "Result SVM:  0.9679979518689196\n"
          ],
          "name": "stdout"
        }
      ]
    }
  ]
}